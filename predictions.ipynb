{
  "nbformat": 4,
  "nbformat_minor": 0,
  "metadata": {
    "colab": {
      "provenance": []
    },
    "kernelspec": {
      "name": "python3",
      "display_name": "Python 3"
    },
    "language_info": {
      "name": "python"
    }
  },
  "cells": [
    {
      "cell_type": "markdown",
      "source": [
        "# **Predictions**"
      ],
      "metadata": {
        "id": "KlbncMVabDYr"
      }
    },
    {
      "cell_type": "code",
      "source": [
        "import pandas as pd\n",
        "import numpy as np\n",
        "import joblib\n",
        "\n",
        "import warnings\n",
        "warnings.filterwarnings(\"ignore\")"
      ],
      "metadata": {
        "id": "sGg45MzoALTQ"
      },
      "execution_count": 30,
      "outputs": []
    },
    {
      "cell_type": "code",
      "source": [
        ",# Loading the model\n",
        "model_filename = \"model/logistic_regression_model.pkl\"\n",
        "best_lr_model_2 = joblib.load(model_filename)"
      ],
      "metadata": {
        "id": "ZGmaxlO7bGWM",
        "colab": {
          "base_uri": "https://localhost:8080/"
        },
        "outputId": "20f6b3c2-4a29-409d-bf77-165e6343ca07"
      },
      "execution_count": 12,
      "outputs": [
        {
          "output_type": "stream",
          "name": "stdout",
          "text": [
            "Predictions successful\n"
          ]
        },
        {
          "output_type": "stream",
          "name": "stderr",
          "text": [
            "/usr/local/lib/python3.10/dist-packages/sklearn/base.py:486: UserWarning: X has feature names, but LogisticRegression was fitted without feature names\n",
            "  warnings.warn(\n"
          ]
        }
      ]
    },
    {
      "cell_type": "code",
      "source": [
        "unseen_data = pd.read_csv(\"model/predictions.csv\")\n",
        "\n",
        "# define the features\n",
        "X_new = unseen_data\n",
        "\n",
        "# predictions on the unseen data\n",
        "predictions = best_lr_model_2.predict(X_new)\n",
        "\n",
        "# save as CSV file\n",
        "unseen_data[\"diabetes_risk\"] = predictions  # predictions column with diabetes risk\n",
        "unseen_data.to_csv(\"model/predictions_for_unseen_data.csv\", index=False)\n",
        "\n",
        "print(\"Predictions successful\")"
      ],
      "metadata": {
        "colab": {
          "base_uri": "https://localhost:8080/"
        },
        "id": "jVCrSUhED5DG",
        "outputId": "6f6e7562-6e95-45ff-cab5-2cab69367c71"
      },
      "execution_count": 15,
      "outputs": [
        {
          "output_type": "stream",
          "name": "stdout",
          "text": [
            "Predictions successful\n"
          ]
        },
        {
          "output_type": "stream",
          "name": "stderr",
          "text": [
            "/usr/local/lib/python3.10/dist-packages/sklearn/base.py:486: UserWarning: X has feature names, but LogisticRegression was fitted without feature names\n",
            "  warnings.warn(\n"
          ]
        }
      ]
    },
    {
      "cell_type": "code",
      "source": [
        "# Function to categorize BMI\n",
        "def categorize_bmi(bmi):\n",
        "    if bmi <= 16.9:\n",
        "        return 2\n",
        "    elif 17 <= bmi < 18.4:\n",
        "        return 3\n",
        "    elif 18.4 <= bmi <= 24.9:\n",
        "        return 1\n",
        "    elif 25 <= bmi <= 29.9:\n",
        "        return 4\n",
        "    elif 30 <= bmi <= 34.9:\n",
        "        return 5\n",
        "    elif 35 <= bmi <= 39.9:\n",
        "        return 6\n",
        "    elif bmi >= 40:\n",
        "        return 7\n",
        "    else:\n",
        "        return \"Unknown\"\n",
        "\n",
        "# Function to classify blood pressure\n",
        "def classify_blood_pressure(systolic, diastolic):\n",
        "    if systolic < 90 and diastolic < 60:\n",
        "        return 2\n",
        "    elif systolic > 140 or diastolic > 90:\n",
        "        return 3\n",
        "    else:\n",
        "        return 1\n",
        "\n",
        "# Function to determine age group\n",
        "def get_age_group(age):\n",
        "    bins_age = [18, 25, 35, 45, 55, 65, float(\"inf\")]\n",
        "    labels_age = [\"18-25\", \"26-35\", \"36-45\", \"46-55\", \"56-65\", \"Over 65\"]\n",
        "    return pd.cut([age], bins=bins_age, labels=labels_age, right=False)[0]\n",
        "\n",
        "age_group_mapping = {\n",
        "    \"18-25\": 1,\n",
        "    \"26-35\": 2,\n",
        "    \"36-45\": 3,\n",
        "    \"46-55\": 4,\n",
        "    \"56-65\": 5,\n",
        "    \"Over 65\": 6\n",
        "}\n",
        "\n",
        "# Get user input\n",
        "print(\"Enter the following medical information:\")\n",
        "gender = input(\"Gender (Male/Female): \").strip().capitalize()\n",
        "pulse = float(input(\"Pulse (in bpm): \"))\n",
        "temp = float(input(\"Temperature (in Celsius): \"))\n",
        "resp = float(input(\"Respiratory Rate (in breaths per minute): \"))\n",
        "weight = float(input(\"Weight (in kg): \"))\n",
        "height = float(input(\"Height (in cm): \"))\n",
        "age = float(input(\"Age (in years): \"))\n",
        "systolic = int(input(\"Systolic Blood Pressure (in mmHg): \"))\n",
        "diastolic = int(input(\"Diastolic Blood Pressure (in mmHg): \"))\n",
        "is_hypertensive = input(\"Is the patient hypertensive? (yes/no): \").strip().lower()\n",
        "\n",
        "# Calculate derived features\n",
        "bmi = round(weight / ((height / 100) ** 2), 1)\n",
        "bmi_category = categorize_bmi(bmi)\n",
        "blood_pressure_category = classify_blood_pressure(systolic, diastolic)\n",
        "age_group = get_age_group(age)\n",
        "\n",
        "encoded_age_group = age_group_mapping.get(age_group, 0)\n",
        "\n",
        "# Prepare the input data for the model\n",
        "input_data = pd.DataFrame([{\n",
        "    \"age\": age,\n",
        "    \"gender\": 0 if gender == \"Male\" else 1,\n",
        "    \"pulse\": pulse,\n",
        "    \"temp\": temp,\n",
        "    \"resp\": resp,\n",
        "    \"bmi_category\": bmi_category,\n",
        "    \"age_group\": encoded_age_group,\n",
        "    \"blood_pressure_category\": blood_pressure_category,\n",
        "    \"is_hypertensive\": 1 if is_hypertensive == \"yes\" else 0\n",
        "}])\n",
        "\n",
        "input_data.head()\n",
        "\n"
      ],
      "metadata": {
        "colab": {
          "base_uri": "https://localhost:8080/",
          "height": 272
        },
        "id": "SvIpAXjMAERV",
        "outputId": "c064418d-386c-4bd2-9690-186ee12600fd"
      },
      "execution_count": 26,
      "outputs": [
        {
          "name": "stdout",
          "output_type": "stream",
          "text": [
            "Enter the following medical information:\n",
            "Gender (Male/Female): Female\n",
            "Pulse (in bpm): 67\n",
            "Temperature (in Celsius): 37\n",
            "Respiratory Rate (in breaths per minute): 22\n",
            "Weight (in kg): 64.4\n",
            "Height (in cm): 160\n",
            "Age (in years): 35\n",
            "Systolic Blood Pressure (in mmHg): 135\n",
            "Diastolic Blood Pressure (in mmHg): 72\n",
            "Is the patient hypertensive? (yes/no): no\n"
          ]
        },
        {
          "output_type": "execute_result",
          "data": {
            "text/plain": [
              "    age  gender  pulse  temp  resp  bmi_category  age_group  \\\n",
              "0  35.0       1   67.0  37.0  22.0             4          3   \n",
              "\n",
              "   blood_pressure_category  is_hypertensive  \n",
              "0                        1                0  "
            ],
            "text/html": [
              "\n",
              "  <div id=\"df-47e8274e-08bc-49a4-b727-bb02529805ca\" class=\"colab-df-container\">\n",
              "    <div>\n",
              "<style scoped>\n",
              "    .dataframe tbody tr th:only-of-type {\n",
              "        vertical-align: middle;\n",
              "    }\n",
              "\n",
              "    .dataframe tbody tr th {\n",
              "        vertical-align: top;\n",
              "    }\n",
              "\n",
              "    .dataframe thead th {\n",
              "        text-align: right;\n",
              "    }\n",
              "</style>\n",
              "<table border=\"1\" class=\"dataframe\">\n",
              "  <thead>\n",
              "    <tr style=\"text-align: right;\">\n",
              "      <th></th>\n",
              "      <th>age</th>\n",
              "      <th>gender</th>\n",
              "      <th>pulse</th>\n",
              "      <th>temp</th>\n",
              "      <th>resp</th>\n",
              "      <th>bmi_category</th>\n",
              "      <th>age_group</th>\n",
              "      <th>blood_pressure_category</th>\n",
              "      <th>is_hypertensive</th>\n",
              "    </tr>\n",
              "  </thead>\n",
              "  <tbody>\n",
              "    <tr>\n",
              "      <th>0</th>\n",
              "      <td>35.0</td>\n",
              "      <td>1</td>\n",
              "      <td>67.0</td>\n",
              "      <td>37.0</td>\n",
              "      <td>22.0</td>\n",
              "      <td>4</td>\n",
              "      <td>3</td>\n",
              "      <td>1</td>\n",
              "      <td>0</td>\n",
              "    </tr>\n",
              "  </tbody>\n",
              "</table>\n",
              "</div>\n",
              "    <div class=\"colab-df-buttons\">\n",
              "\n",
              "  <div class=\"colab-df-container\">\n",
              "    <button class=\"colab-df-convert\" onclick=\"convertToInteractive('df-47e8274e-08bc-49a4-b727-bb02529805ca')\"\n",
              "            title=\"Convert this dataframe to an interactive table.\"\n",
              "            style=\"display:none;\">\n",
              "\n",
              "  <svg xmlns=\"http://www.w3.org/2000/svg\" height=\"24px\" viewBox=\"0 -960 960 960\">\n",
              "    <path d=\"M120-120v-720h720v720H120Zm60-500h600v-160H180v160Zm220 220h160v-160H400v160Zm0 220h160v-160H400v160ZM180-400h160v-160H180v160Zm440 0h160v-160H620v160ZM180-180h160v-160H180v160Zm440 0h160v-160H620v160Z\"/>\n",
              "  </svg>\n",
              "    </button>\n",
              "\n",
              "  <style>\n",
              "    .colab-df-container {\n",
              "      display:flex;\n",
              "      gap: 12px;\n",
              "    }\n",
              "\n",
              "    .colab-df-convert {\n",
              "      background-color: #E8F0FE;\n",
              "      border: none;\n",
              "      border-radius: 50%;\n",
              "      cursor: pointer;\n",
              "      display: none;\n",
              "      fill: #1967D2;\n",
              "      height: 32px;\n",
              "      padding: 0 0 0 0;\n",
              "      width: 32px;\n",
              "    }\n",
              "\n",
              "    .colab-df-convert:hover {\n",
              "      background-color: #E2EBFA;\n",
              "      box-shadow: 0px 1px 2px rgba(60, 64, 67, 0.3), 0px 1px 3px 1px rgba(60, 64, 67, 0.15);\n",
              "      fill: #174EA6;\n",
              "    }\n",
              "\n",
              "    .colab-df-buttons div {\n",
              "      margin-bottom: 4px;\n",
              "    }\n",
              "\n",
              "    [theme=dark] .colab-df-convert {\n",
              "      background-color: #3B4455;\n",
              "      fill: #D2E3FC;\n",
              "    }\n",
              "\n",
              "    [theme=dark] .colab-df-convert:hover {\n",
              "      background-color: #434B5C;\n",
              "      box-shadow: 0px 1px 3px 1px rgba(0, 0, 0, 0.15);\n",
              "      filter: drop-shadow(0px 1px 2px rgba(0, 0, 0, 0.3));\n",
              "      fill: #FFFFFF;\n",
              "    }\n",
              "  </style>\n",
              "\n",
              "    <script>\n",
              "      const buttonEl =\n",
              "        document.querySelector('#df-47e8274e-08bc-49a4-b727-bb02529805ca button.colab-df-convert');\n",
              "      buttonEl.style.display =\n",
              "        google.colab.kernel.accessAllowed ? 'block' : 'none';\n",
              "\n",
              "      async function convertToInteractive(key) {\n",
              "        const element = document.querySelector('#df-47e8274e-08bc-49a4-b727-bb02529805ca');\n",
              "        const dataTable =\n",
              "          await google.colab.kernel.invokeFunction('convertToInteractive',\n",
              "                                                    [key], {});\n",
              "        if (!dataTable) return;\n",
              "\n",
              "        const docLinkHtml = 'Like what you see? Visit the ' +\n",
              "          '<a target=\"_blank\" href=https://colab.research.google.com/notebooks/data_table.ipynb>data table notebook</a>'\n",
              "          + ' to learn more about interactive tables.';\n",
              "        element.innerHTML = '';\n",
              "        dataTable['output_type'] = 'display_data';\n",
              "        await google.colab.output.renderOutput(dataTable, element);\n",
              "        const docLink = document.createElement('div');\n",
              "        docLink.innerHTML = docLinkHtml;\n",
              "        element.appendChild(docLink);\n",
              "      }\n",
              "    </script>\n",
              "  </div>\n",
              "\n",
              "\n",
              "    </div>\n",
              "  </div>\n"
            ],
            "application/vnd.google.colaboratory.intrinsic+json": {
              "type": "dataframe",
              "variable_name": "input_data",
              "summary": "{\n  \"name\": \"input_data\",\n  \"rows\": 1,\n  \"fields\": [\n    {\n      \"column\": \"age\",\n      \"properties\": {\n        \"dtype\": \"number\",\n        \"std\": null,\n        \"min\": 35.0,\n        \"max\": 35.0,\n        \"num_unique_values\": 1,\n        \"samples\": [\n          35.0\n        ],\n        \"semantic_type\": \"\",\n        \"description\": \"\"\n      }\n    },\n    {\n      \"column\": \"gender\",\n      \"properties\": {\n        \"dtype\": \"number\",\n        \"std\": null,\n        \"min\": 1,\n        \"max\": 1,\n        \"num_unique_values\": 1,\n        \"samples\": [\n          1\n        ],\n        \"semantic_type\": \"\",\n        \"description\": \"\"\n      }\n    },\n    {\n      \"column\": \"pulse\",\n      \"properties\": {\n        \"dtype\": \"number\",\n        \"std\": null,\n        \"min\": 67.0,\n        \"max\": 67.0,\n        \"num_unique_values\": 1,\n        \"samples\": [\n          67.0\n        ],\n        \"semantic_type\": \"\",\n        \"description\": \"\"\n      }\n    },\n    {\n      \"column\": \"temp\",\n      \"properties\": {\n        \"dtype\": \"number\",\n        \"std\": null,\n        \"min\": 37.0,\n        \"max\": 37.0,\n        \"num_unique_values\": 1,\n        \"samples\": [\n          37.0\n        ],\n        \"semantic_type\": \"\",\n        \"description\": \"\"\n      }\n    },\n    {\n      \"column\": \"resp\",\n      \"properties\": {\n        \"dtype\": \"number\",\n        \"std\": null,\n        \"min\": 22.0,\n        \"max\": 22.0,\n        \"num_unique_values\": 1,\n        \"samples\": [\n          22.0\n        ],\n        \"semantic_type\": \"\",\n        \"description\": \"\"\n      }\n    },\n    {\n      \"column\": \"bmi_category\",\n      \"properties\": {\n        \"dtype\": \"number\",\n        \"std\": null,\n        \"min\": 4,\n        \"max\": 4,\n        \"num_unique_values\": 1,\n        \"samples\": [\n          4\n        ],\n        \"semantic_type\": \"\",\n        \"description\": \"\"\n      }\n    },\n    {\n      \"column\": \"age_group\",\n      \"properties\": {\n        \"dtype\": \"number\",\n        \"std\": null,\n        \"min\": 3,\n        \"max\": 3,\n        \"num_unique_values\": 1,\n        \"samples\": [\n          3\n        ],\n        \"semantic_type\": \"\",\n        \"description\": \"\"\n      }\n    },\n    {\n      \"column\": \"blood_pressure_category\",\n      \"properties\": {\n        \"dtype\": \"number\",\n        \"std\": null,\n        \"min\": 1,\n        \"max\": 1,\n        \"num_unique_values\": 1,\n        \"samples\": [\n          1\n        ],\n        \"semantic_type\": \"\",\n        \"description\": \"\"\n      }\n    },\n    {\n      \"column\": \"is_hypertensive\",\n      \"properties\": {\n        \"dtype\": \"number\",\n        \"std\": null,\n        \"min\": 0,\n        \"max\": 0,\n        \"num_unique_values\": 1,\n        \"samples\": [\n          0\n        ],\n        \"semantic_type\": \"\",\n        \"description\": \"\"\n      }\n    }\n  ]\n}"
            }
          },
          "metadata": {},
          "execution_count": 26
        }
      ]
    },
    {
      "cell_type": "code",
      "source": [
        "# Make predictions\n",
        "input_data_pred = input_data.drop('age', axis=1)\n",
        "prediction = best_lr_model_2.predict(input_data_pred)\n",
        "\n",
        "# Generate output\n",
        "risk_levels = {0: \"Low Risk\", 1: \"Medium Risk\", 2: \"High Risk\"}\n",
        "diabetes_risk = risk_levels[prediction[0]]\n",
        "\n",
        "# Display results\n",
        "print(\"\\n**Patient Data Summary**\")\n",
        "print(f\"Gender: {gender}\")\n",
        "print(f\"Pulse: {pulse} bpm\")\n",
        "print(f\"Temperature: {temp} °C\")\n",
        "print(f\"Respiratory Rate: {resp} breaths/min\")\n",
        "print(f\"BMI: {bmi} ({bmi_category})\")\n",
        "print(f\"Age Group: {age_group}\")\n",
        "print(f\"Blood Pressure Category: {blood_pressure_category}\")\n",
        "print(f\"Hypertensive: {'Yes' if is_hypertensive == 'yes' else 'No'}\")\n",
        "\n",
        "print(f\"\\n**Predicted Risk Level: {diabetes_risk}**\")\n"
      ],
      "metadata": {
        "colab": {
          "base_uri": "https://localhost:8080/"
        },
        "id": "sz6Fc7qhHLOr",
        "outputId": "6eec8239-cf9c-47be-e44d-26f373f9627c"
      },
      "execution_count": 31,
      "outputs": [
        {
          "output_type": "stream",
          "name": "stdout",
          "text": [
            "\n",
            "**Patient Data Summary**\n",
            "Gender: Female\n",
            "Pulse: 67.0 bpm\n",
            "Temperature: 37.0 °C\n",
            "Respiratory Rate: 22.0 breaths/min\n",
            "BMI: 25.2 (4)\n",
            "Age Group: 36-45\n",
            "Blood Pressure Category: 1\n",
            "Hypertensive: No\n",
            "\n",
            "**Predicted Risk Level: High Risk**\n"
          ]
        }
      ]
    }
  ]
}